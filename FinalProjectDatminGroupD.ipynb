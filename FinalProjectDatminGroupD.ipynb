{
  "nbformat": 4,
  "nbformat_minor": 0,
  "metadata": {
    "colab": {
      "provenance": [],
      "authorship_tag": "ABX9TyPZamN9HzCVtimT7Xgy2rey",
      "include_colab_link": true
    },
    "kernelspec": {
      "name": "python3",
      "display_name": "Python 3"
    },
    "language_info": {
      "name": "python"
    }
  },
  "cells": [
    {
      "cell_type": "markdown",
      "metadata": {
        "id": "view-in-github",
        "colab_type": "text"
      },
      "source": [
        "<a href=\"https://colab.research.google.com/github/lidyaanggreni/DataMining_GroupG/blob/main/FinalProjectDatminGroupD.ipynb\" target=\"_parent\"><img src=\"https://colab.research.google.com/assets/colab-badge.svg\" alt=\"Open In Colab\"/></a>"
      ]
    },
    {
      "cell_type": "markdown",
      "source": [
        "**Kelompok D**\n",
        "1. Azizah Annurohmah (2006572983)\n",
        "2. Natania Agustin (2006572895)\n",
        "3. Ni Made Lidya Anggreni (2006522700)\n",
        "4. Siskawati Simandalahi (2006572970)\n",
        "5. Yemima Kathleen Monica (2006528982)\n",
        "6. Yovela Natalia Yvone (2006463894)"
      ],
      "metadata": {
        "id": "_3AmAQe54T_3"
      }
    },
    {
      "cell_type": "code",
      "execution_count": null,
      "metadata": {
        "id": "dMb2gann3tLQ"
      },
      "outputs": [],
      "source": []
    }
  ]
}